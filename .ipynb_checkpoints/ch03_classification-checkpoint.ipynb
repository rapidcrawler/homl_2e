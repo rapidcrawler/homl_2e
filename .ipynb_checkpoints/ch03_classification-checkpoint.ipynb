{
 "cells": [
  {
   "cell_type": "markdown",
   "id": "equal-nirvana",
   "metadata": {},
   "source": [
    "# Classification\n",
    "General Steps:\n",
    "1. Choose appropriate metric\n",
    "2. Evaluate classifiers using cross-validation (cross_val_score)\n",
    "3. Select the precision/recall tradeoff\n",
    "4. Use ROC Curve and AUC ROC Score to compare among various models\n",
    "\n",
    "## Binary Classifier\n",
    "- [SGDClassifier](#SGDClassifier) (*Incomplete/Error*)\n",
    "- [SVC](#svc)\n",
    "- [classification_report](#classification_report)\n",
    "- SKlearn [Confusion Matrix](#confusion_matrix)\n",
    "- Classification [Evaluation Metrics](#eval_metrics)\n",
    "\n",
    "## <b> Multiclass Classification </b>\n",
    "### <b>Binary Classifier:</b><br>\n",
    "- Log Reg <br>\n",
    "- SVM Classofoer <br>\n",
    "\n",
    "## <b>Multiclass/Multinomial Classification:</b> <br>\n",
    "- SGD Classifier <br>\n",
    "- Randomforest <br>\n",
    "- Navie Bayes <br>\n",
    "\n",
    "## <b>Multi Label Classification:</b> <br>\n",
    "- KNeighborsClassifier<br>"
   ]
  },
  {
   "cell_type": "code",
   "execution_count": 1,
   "id": "sonic-hostel",
   "metadata": {},
   "outputs": [],
   "source": [
    "import pandas as pd\n",
    "import numpy as np\n",
    "import matplotlib.pyplot as plt"
   ]
  },
  {
   "cell_type": "markdown",
   "id": "loved-heritage",
   "metadata": {},
   "source": [
    "`Regression`: predicting values <br>\n",
    "`Classification`: predicting classes"
   ]
  },
  {
   "cell_type": "code",
   "execution_count": 2,
   "id": "chief-simpson",
   "metadata": {},
   "outputs": [
    {
     "data": {
      "text/plain": [
       "dict_keys(['data', 'target', 'frame', 'categories', 'feature_names', 'target_names', 'DESCR', 'details', 'url'])"
      ]
     },
     "execution_count": 2,
     "metadata": {},
     "output_type": "execute_result"
    }
   ],
   "source": [
    "from sklearn.datasets import fetch_openml\n",
    "mnist = fetch_openml('mnist_784', version=1)\n",
    "mnist.keys()"
   ]
  },
  {
   "cell_type": "code",
   "execution_count": 3,
   "id": "premium-apartment",
   "metadata": {},
   "outputs": [
    {
     "name": "stdout",
     "output_type": "stream",
     "text": [
      "Shape of DF: (70000, 784)\n",
      "Number of Images: 70000\n",
      "Features in each image: 784\n",
      "Which means image's resolution: 28 X 28 pixels\n"
     ]
    }
   ],
   "source": [
    "X, y = mnist[\"data\"], mnist[\"target\"]\n",
    "\n",
    "print(f\"Shape of DF: {X.shape}\")\n",
    "print(f\"Number of Images: {X.shape[0]}\")\n",
    "print(f\"Features in each image: {X.shape[1]}\")\n",
    "print(f\"Which means image's resolution: {int(np.sqrt(X.shape[1]))} X {int(np.sqrt(X.shape[1]))} pixels\")"
   ]
  },
  {
   "cell_type": "markdown",
   "id": "previous-brook",
   "metadata": {},
   "source": [
    "___\n",
    "### Another way of importing MNIST data\n",
    "```python\n",
    "from tensorflow.keras.datasets import mnist\n",
    "from matplotlib import pyplot\n",
    "# load dataset\n",
    "(trainX, trainy), (testX, testy) = mnist.load_data()\n",
    "```\n",
    "___"
   ]
  },
  {
   "cell_type": "markdown",
   "id": "attended-verification",
   "metadata": {},
   "source": [
    "<a id=\"SGDClassifier\"></a>\n",
    "## Training a binary classifier\n",
    "<font color=\"teal\"><b>Stochastic Gradient Classifier</b></font>\n",
    "```python\n",
    "from sklearn.linear_model import SGDClassifier\n",
    "```"
   ]
  },
  {
   "cell_type": "code",
   "execution_count": 4,
   "id": "progressive-apparel",
   "metadata": {},
   "outputs": [],
   "source": [
    "X, y = mnist[\"data\"], mnist[\"target\"]\n",
    "y = y.astype(np.uint8) # As the numeral representation in target is in string format\n",
    "\n",
    "X_train, X_test, y_train, y_test = X[:60000], X[60000:], y[:60000], y[60000:]"
   ]
  },
  {
   "cell_type": "code",
   "execution_count": 5,
   "id": "positive-remainder",
   "metadata": {},
   "outputs": [
    {
     "data": {
      "text/plain": [
       "False    54579\n",
       "True      5421\n",
       "Name: class, dtype: int64"
      ]
     },
     "execution_count": 5,
     "metadata": {},
     "output_type": "execute_result"
    }
   ],
   "source": [
    "y_train_5 = (y_train == 5)\n",
    "y_test_5 = (y_test == 5)\n",
    "\n",
    "y_train_5.value_counts()"
   ]
  },
  {
   "cell_type": "code",
   "execution_count": 6,
   "id": "ordered-fence",
   "metadata": {},
   "outputs": [
    {
     "name": "stdout",
     "output_type": "stream",
     "text": [
      "(60000, 784)\n",
      "(60000,)\n"
     ]
    }
   ],
   "source": [
    "print(X_train.shape)\n",
    "print(y_train_5.shape)"
   ]
  },
  {
   "cell_type": "code",
   "execution_count": 7,
   "id": "exciting-brass",
   "metadata": {},
   "outputs": [
    {
     "data": {
      "text/plain": [
       "SGDClassifier(random_state=42)"
      ]
     },
     "execution_count": 7,
     "metadata": {},
     "output_type": "execute_result"
    }
   ],
   "source": [
    "from sklearn.linear_model import SGDClassifier\n",
    "\n",
    "sgd_clf = SGDClassifier(max_iter=1000, tol=1e-3, random_state=42)\n",
    "sgd_clf.fit(X_train, y_train_5)"
   ]
  },
  {
   "cell_type": "markdown",
   "id": "589f96a5-e5c6-47a6-9bc6-bee31d2cadc8",
   "metadata": {},
   "source": [
    "### Cross-Val Score for SGD Classifier"
   ]
  },
  {
   "cell_type": "code",
   "execution_count": 8,
   "id": "055ca65e-946e-491e-a32a-ce3db571a51e",
   "metadata": {},
   "outputs": [
    {
     "data": {
      "text/plain": [
       "array([0.95035, 0.96035, 0.9604 ])"
      ]
     },
     "execution_count": 8,
     "metadata": {},
     "output_type": "execute_result"
    }
   ],
   "source": [
    "from sklearn.model_selection import cross_val_score\n",
    "cross_val_score(sgd_clf, X_train, y_train_5, cv=3, scoring=\"accuracy\")"
   ]
  },
  {
   "cell_type": "markdown",
   "id": "accomplished-serbia",
   "metadata": {},
   "source": [
    "___\n",
    "### Another way of importing MNIST data\n",
    "```python\n",
    "from sklearn import datasets\n",
    "# load dataset\n",
    "digits = datasets.load_digits()\n",
    "\n",
    "# flatten the images\n",
    "n_samples = len(digits.images)\n",
    "data = digits.images.reshape((n_samples, -1))\n",
    "\n",
    "X_train, X_test, y_train, y_test = train_test_split(data, digits.target, test_size=0.2, shuffle=False)\n",
    "```"
   ]
  },
  {
   "cell_type": "code",
   "execution_count": 9,
   "id": "seven-present",
   "metadata": {},
   "outputs": [],
   "source": [
    "# Standard scientific Python imports\n",
    "import matplotlib.pyplot as plt\n",
    "\n",
    "# Import datasets, classifiers and performance metrics\n",
    "from sklearn import datasets, svm, metrics\n",
    "from sklearn.model_selection import train_test_split\n",
    "digits = datasets.load_digits()"
   ]
  },
  {
   "cell_type": "code",
   "execution_count": 35,
   "id": "seven-introduction",
   "metadata": {},
   "outputs": [
    {
     "data": {
      "image/png": "[encoded data removed]",
      "text/plain": [
       "<Figure size 720x216 with 4 Axes>"
      ]
     },
     "metadata": {
      "needs_background": "light"
     },
     "output_type": "display_data"
    }
   ],
   "source": [
    "# Plotting some digits on screen\n",
    "\n",
    "_, axes = plt.subplots(nrows=1, ncols=4, figsize=(10, 3))\n",
    "for ax, image, label in zip(axes, digits.images, digits.target):\n",
    "    ax.set_axis_off()\n",
    "    ax.imshow(image, cmap=plt.cm.gray_r, interpolation='nearest')\n",
    "    ax.set_title(f'Training: {label}')\n",
    "    \n",
    "# flatten the images\n",
    "n_samples = len(digits.images)\n",
    "data = digits.images.reshape((n_samples, -1))"
   ]
  },
  {
   "cell_type": "markdown",
   "id": "jewish-laser",
   "metadata": {},
   "source": [
    "<a id=\"svc\"></a>\n",
    "## Support Vector Classifier\n",
    "\n",
    "<font color=\"teal\"><b>Support Vector Classifier</b></font>\n",
    "```python\n",
    "from sklearn import svm\n",
    "```"
   ]
  },
  {
   "cell_type": "code",
   "execution_count": 37,
   "id": "electoral-division",
   "metadata": {},
   "outputs": [
    {
     "name": "stdout",
     "output_type": "stream",
     "text": [
      "(1437,)\n",
      "(1437,)\n"
     ]
    }
   ],
   "source": [
    "data = digits.images.reshape((n_samples, -1))\n",
    "# Create a classifier: a Support Vector Classifier\n",
    "clf = svm.SVC(gamma=0.001)\n",
    "\n",
    "# Split data into 50% train and 50% test subsets\n",
    "X_train, X_test, y_train, y_test = train_test_split(data, digits.target, test_size=0.2, shuffle=False)\n",
    "\n",
    "y_train_5 = (y_train==5); y_test_5 = (y_test==5)\n",
    "\n",
    "print(y_train.shape); print(y_train_5.shape)"
   ]
  },
  {
   "cell_type": "code",
   "execution_count": 38,
   "id": "dirty-energy",
   "metadata": {},
   "outputs": [],
   "source": [
    "# Learn the digits on the train subset\n",
    "clf.fit(X_train, y_train_5)\n",
    "\n",
    "# Predict the value of the digit on the test subset\n",
    "predicted = clf.predict(X_test)"
   ]
  },
  {
   "cell_type": "code",
   "execution_count": 39,
   "id": "constant-configuration",
   "metadata": {},
   "outputs": [
    {
     "data": {
      "image/png": "[encoded data removed]",
      "text/plain": [
       "<Figure size 720x216 with 4 Axes>"
      ]
     },
     "metadata": {
      "needs_background": "light"
     },
     "output_type": "display_data"
    }
   ],
   "source": [
    "# Plotting predictions\n",
    "_, axes = plt.subplots(nrows=1, ncols=4, figsize=(10, 3))\n",
    "for ax, image, prediction in zip(axes, X_test, predicted):\n",
    "    ax.set_axis_off()\n",
    "    image = image.reshape(8, 8)\n",
    "    ax.imshow(image, cmap=plt.cm.gray_r, interpolation='nearest')\n",
    "    ax.set_title(f'Prediction: {prediction}')"
   ]
  },
  {
   "cell_type": "markdown",
   "id": "d9ca9553-44a9-4439-820f-5a487cf6a6de",
   "metadata": {},
   "source": [
    "___\n",
    "<a id=\"classification_report\"></a>\n",
    "### classification_report:\n",
    "[classification_report](https://scikit-learn.org/stable/modules/generated/sklearn.metrics.classification_report.html#sklearn.metrics.classification_report) builds a text report showing the main classification metrics"
   ]
  },
  {
   "cell_type": "code",
   "execution_count": 40,
   "id": "nominated-japan",
   "metadata": {},
   "outputs": [
    {
     "name": "stdout",
     "output_type": "stream",
     "text": [
      "Classification report for classifier: SVC(gamma=0.001):\n",
      "\n",
      "              precision    recall  f1-score   support\n",
      "\n",
      "       False       1.00      0.99      1.00       323\n",
      "        True       0.95      1.00      0.97        37\n",
      "\n",
      "    accuracy                           0.99       360\n",
      "   macro avg       0.97      1.00      0.99       360\n",
      "weighted avg       0.99      0.99      0.99       360\n",
      "\n",
      "\n"
     ]
    }
   ],
   "source": [
    "print(f\"Classification report for classifier: {clf}:\\n\\n\"\n",
    "      f\"{metrics.classification_report(y_test_5, predicted)}\\n\")"
   ]
  },
  {
   "cell_type": "markdown",
   "id": "electric-account",
   "metadata": {},
   "source": [
    "___\n",
    "<a id=\"confusion_matrix\"></a>\n",
    "### Sklearn Confusion Matrix"
   ]
  },
  {
   "cell_type": "code",
   "execution_count": 51,
   "id": "cb012071-1f01-4997-b540-3f3bce99fb60",
   "metadata": {},
   "outputs": [
    {
     "name": "stdout",
     "output_type": "stream",
     "text": [
      "0.24.1\n"
     ]
    }
   ],
   "source": [
    "import sklearn\n",
    "print(sklearn.__version__)"
   ]
  },
  {
   "cell_type": "code",
   "execution_count": 41,
   "id": "martial-subsection",
   "metadata": {},
   "outputs": [
    {
     "name": "stdout",
     "output_type": "stream",
     "text": [
      "[[321   2]\n",
      " [  0  37]]\n"
     ]
    },
    {
     "data": {
      "image/png": "[encoded data removed]",
      "text/plain": [
       "<Figure size 432x288 with 2 Axes>"
      ]
     },
     "metadata": {
      "needs_background": "light"
     },
     "output_type": "display_data"
    }
   ],
   "source": [
    "from sklearn.metrics import confusion_matrix, plot_confusion_matrix\n",
    "print(confusion_matrix(y_test_5, predicted))\n",
    "\n",
    "plot_confusion_matrix(clf, X_test, y_test_5)  \n",
    "plt.show()"
   ]
  },
  {
   "cell_type": "markdown",
   "id": "d77acc80-c87e-44a5-82f1-b7c2982ff891",
   "metadata": {},
   "source": [
    "### HeatMap  Confusion Matrix"
   ]
  },
  {
   "cell_type": "code",
   "execution_count": 49,
   "id": "9097cd43-bba7-4ae7-b454-f53fc66cf3eb",
   "metadata": {},
   "outputs": [
    {
     "data": {
      "text/plain": [
       "<AxesSubplot:>"
      ]
     },
     "execution_count": 49,
     "metadata": {},
     "output_type": "execute_result"
    },
    {
     "data": {
      "image/png": "[encoded data removed]",
      "text/plain": [
       "<Figure size 432x432 with 2 Axes>"
      ]
     },
     "metadata": {
      "needs_background": "light"
     },
     "output_type": "display_data"
    }
   ],
   "source": [
    "import seaborn as sns\n",
    "from matplotlib import pyplot as plt\n",
    "cf_train_matrix = confusion_matrix(y_test_5, predicted)\n",
    "plt.figure(figsize=(6,6))\n",
    "sns.heatmap(cf_train_matrix, annot=True, fmt='d')"
   ]
  },
  {
   "cell_type": "markdown",
   "id": "basic-consolidation",
   "metadata": {},
   "source": [
    "<a id=\"eval_metrics\"></a>\n",
    "# Classification Evaluation Metrics"
   ]
  },
  {
   "cell_type": "code",
   "execution_count": 16,
   "id": "proud-biotechnology",
   "metadata": {},
   "outputs": [
    {
     "name": "stdout",
     "output_type": "stream",
     "text": [
      "Accuracy: 0.994444\n",
      "Precision: 0.948718\n",
      "Recall: 1.000000\n",
      "F1 score: 0.973684\n",
      "Cohens kappa: 0.970581\n",
      "ROC AUC: 0.996904\n",
      "[[321   2]\n",
      " [  0  37]]\n"
     ]
    }
   ],
   "source": [
    "from sklearn.metrics import accuracy_score, precision_score, recall_score, f1_score, cohen_kappa_score, roc_auc_score, confusion_matrix\n",
    "\n",
    "# accuracy: (tp + tn) / (p + n)\n",
    "accuracy = accuracy_score(y_test_5, predicted)\n",
    "print('Accuracy: %f' % accuracy)\n",
    "# precision tp / (tp + fp)\n",
    "precision = precision_score(y_test_5, predicted)\n",
    "print('Precision: %f' % precision)\n",
    "# recall: tp / (tp + fn)\n",
    "recall = recall_score(y_test_5, predicted)\n",
    "print('Recall: %f' % recall)\n",
    "# f1: 2 tp / (2 tp + fp + fn)\n",
    "f1 = f1_score(y_test_5, predicted)\n",
    "print('F1 score: %f' % f1)\n",
    " \n",
    "# kappa\n",
    "kappa = cohen_kappa_score(y_test_5, predicted)\n",
    "print('Cohens kappa: %f' % kappa)\n",
    "# ROC AUC\n",
    "auc = roc_auc_score(y_test_5, predicted)\n",
    "print('ROC AUC: %f' % auc)\n",
    "# confusion matrix\n",
    "matrix = confusion_matrix(y_test_5, predicted)\n",
    "print(matrix)"
   ]
  },
  {
   "cell_type": "markdown",
   "id": "higher-mauritius",
   "metadata": {},
   "source": [
    "___\n",
    "# ROC\n",
    "```python\n",
    "from sklearn.metrics import roc_curve\n",
    "```\n",
    "> ***True Positive Rate*** = True Positives / (True Positives + False Negatives) <br>\n",
    "> ***Sensitivity*** = True Positives / (True Positives + False Negatives) <br>\n",
    "> ***False Positive Rate*** = False Positives / (False Positives + True Negatives) <br>\n",
    "> ***Specificity*** = True Negatives / (True Negatives + False Positives) <br>\n",
    "> ***False Positive Rate*** = 1 - Specificity <br>\n",
    "\n",
    "It is a probability curve that plots the ***TPR*** against ***FPR*** at various threshold values and essentially separates the 'signal' from the 'noise'. <br>\n",
    "The ***Area Under the Curve*** (AUC) is the measure of the ability of a classifier to distinguish between classes and is used as a summary of the ROC curve."
   ]
  },
  {
   "cell_type": "code",
   "execution_count": 44,
   "id": "independent-australian",
   "metadata": {},
   "outputs": [],
   "source": [
    "# y_scores = clf.decision_function([X_train[2]])\n",
    "\n",
    "from sklearn.model_selection import cross_val_predict\n",
    "y_scores = cross_val_predict(clf, X_train, y_train_5, cv=3, method=\"decision_function\")"
   ]
  },
  {
   "cell_type": "code",
   "execution_count": 45,
   "id": "coordinate-seafood",
   "metadata": {},
   "outputs": [],
   "source": [
    "from sklearn.metrics import roc_curve\n",
    "\n",
    "fpr, tpr, thresholds = roc_curve(y_train_5, y_scores)"
   ]
  },
  {
   "cell_type": "code",
   "execution_count": 49,
   "id": "anticipated-burden",
   "metadata": {},
   "outputs": [
    {
     "data": {
      "image/png": "[encoded data removed]",
      "text/plain": [
       "<Figure size 576x432 with 1 Axes>"
      ]
     },
     "metadata": {
      "needs_background": "light"
     },
     "output_type": "display_data"
    }
   ],
   "source": [
    "def plot_roc_curve(fpr, tpr, label=None):\n",
    "    plt.plot(fpr, tpr, linewidth=2, label=label)\n",
    "    plt.plot([0, 1], [0, 1], 'k--') # dashed diagonal\n",
    "    plt.axis([0, 1, 0, 1])                                    # Not shown in the book\n",
    "    plt.xlabel('False Positive Rate (Fall-Out)', fontsize=16) # Not shown\n",
    "    plt.ylabel('True Positive Rate (Recall)', fontsize=16)    # Not shown\n",
    "    plt.grid(True)                                            # Not shown\n",
    "\n",
    "plt.figure(figsize=(8, 6))                         # Not shown\n",
    "plot_roc_curve(fpr, tpr)\n",
    "plt.plot([4.837e-3, 4.837e-3], [0., 0.4368], \"r:\") # Not shown\n",
    "plt.plot([0.0, 4.837e-3], [0.4368, 0.4368], \"r:\")  # Not shown\n",
    "plt.plot([4.837e-3], [0.4368], \"ro\")               # Not shown\n",
    "# save_fig(\"roc_curve_plot\")                         # Not shown\n",
    "plt.show()"
   ]
  }
 ],
 "metadata": {
  "kernelspec": {
   "display_name": "Python 3",
   "language": "python",
   "name": "python3"
  },
  "language_info": {
   "codemirror_mode": {
    "name": "ipython",
    "version": 3
   },
   "file_extension": ".py",
   "mimetype": "text/x-python",
   "name": "python",
   "nbconvert_exporter": "python",
   "pygments_lexer": "ipython3",
   "version": "3.7.4"
  }
 },
 "nbformat": 4,
 "nbformat_minor": 5
}
